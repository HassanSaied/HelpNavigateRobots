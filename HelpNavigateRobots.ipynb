{
  "nbformat": 4,
  "nbformat_minor": 0,
  "metadata": {
    "colab": {
      "name": "HelpNavigateRobots.ipynb",
      "version": "0.3.2",
      "provenance": [],
      "collapsed_sections": [],
      "include_colab_link": true
    },
    "kernelspec": {
      "name": "python3",
      "display_name": "Python 3"
    }
  },
  "cells": [
    {
      "cell_type": "markdown",
      "metadata": {
        "id": "view-in-github",
        "colab_type": "text"
      },
      "source": [
        "<a href=\"https://colab.research.google.com/github/MinaSGorgy/HelpNavigateRobots/blob/master/HelpNavigateRobots.ipynb\" target=\"_parent\"><img src=\"https://colab.research.google.com/assets/colab-badge.svg\" alt=\"Open In Colab\"/></a>"
      ]
    },
    {
      "metadata": {
        "id": "_FVFEs4FH2bx",
        "colab_type": "code",
        "colab": {}
      },
      "cell_type": "code",
      "source": [
        ""
      ],
      "execution_count": 0,
      "outputs": []
    },
    {
      "metadata": {
        "id": "gIB0GVxPH47f",
        "colab_type": "text"
      },
      "cell_type": "markdown",
      "source": [
        "# Problem Statement\n",
        "\n",
        "Robots are smart… by design. To fully understand and properly navigate a task, however, they need input about their environment.\n",
        "\n",
        "In this competition, you’ll help robots recognize the floor surface they’re standing on using data collected from Inertial Measurement Units (IMU sensors).\n",
        "\n",
        "We’ve collected IMU sensor data while driving a small mobile robot over different floor surfaces on the university premises. The task is to predict which one of the nine floor types (carpet, tiles, concrete) the robot is on using sensor data such as acceleration and velocity. Succeed and you'll help improve the navigation of robots without assistance across many different surfaces, so they won’t fall down on the job."
      ]
    },
    {
      "metadata": {
        "id": "ylqvxZd4JSxT",
        "colab_type": "text"
      },
      "cell_type": "markdown",
      "source": [
        "# Data Description\n",
        "\n",
        "- **X_[train/test].csv** - the input data, covering 10 sensor channels and 128 measurements per time series plus three ID columns:\n",
        "\n",
        "  - row_id: The ID for this row.\n",
        "\n",
        "  - series_id: ID number for the measurement series. Foreign key to y_train/sample_submission.\n",
        "\n",
        "  - measurement_number: Measurement number within the series.\n",
        "\n",
        "The orientation channels encode the current angles how the robot is oriented as a quaternion (see Wikipedia). Angular velocity describes the angle and speed of motion, and linear acceleration components describe how the speed is changing at different times. The 10 sensor channels are:\n",
        "\n",
        "    - orientation_X\n",
        "\n",
        "    - orientation_Y\n",
        "\n",
        "    - orientation_Z\n",
        "\n",
        "    - orientation_W\n",
        "\n",
        "    - angular_velocity_X\n",
        "\n",
        "    - angular_velocity_Y\n",
        "\n",
        "    - angular_velocity_Z\n",
        "\n",
        "    - linear_acceleration_X\n",
        "\n",
        "    - linear_acceleration_Y\n",
        "\n",
        "    - linear_acceleration_Z\n",
        "\n",
        "- **y_train.csv** - the surfaces for training set.\n",
        "\n",
        "  - series_id: ID number for the measurement series.\n",
        "\n",
        "  - group_id: ID number for all of the measurements taken in a recording session. Provided for the training set only, to enable more cross validation strategies.\n",
        "\n",
        "  - surface: the target for this competition.\n",
        "\n",
        "- **sample_submission.csv** - - a sample submission file in the correct format."
      ]
    },
    {
      "metadata": {
        "id": "3e09_6wdH378",
        "colab_type": "text"
      },
      "cell_type": "markdown",
      "source": [
        ""
      ]
    },
    {
      "metadata": {
        "id": "h9-g0JQAE1iZ",
        "colab_type": "code",
        "outputId": "4bd22600-0b11-448a-fce2-fcfff71ae97b",
        "colab": {
          "base_uri": "https://localhost:8080/",
          "height": 34
        }
      },
      "cell_type": "code",
      "source": [
        "# Download Dataset\n",
        "!pip install -U -q kaggle\n",
        "!mkdir -p ~/.kaggle\n",
        "!echo '{\"username\":\"minasgorgi\",\"key\":\"0de353e217e2dca3e5c61e530055c2d8\"}' > ~/.kaggle/kaggle.json\n",
        "!chmod 600 ~/.kaggle/kaggle.json\n",
        "\n",
        "!kaggle competitions download -c career-con-2019"
      ],
      "execution_count": 0,
      "outputs": [
        {
          "output_type": "stream",
          "text": [
            "502 - Bad Gateway\n"
          ],
          "name": "stdout"
        }
      ]
    },
    {
      "metadata": {
        "id": "p6fjjqdQFyo6",
        "colab_type": "code",
        "colab": {}
      },
      "cell_type": "code",
      "source": [
        "# Unpack data\n",
        "!unzip X_train.csv.zip\n",
        "!unzip X_test.csv.zip"
      ],
      "execution_count": 0,
      "outputs": []
    },
    {
      "metadata": {
        "id": "Cc5KbDMcFFrJ",
        "colab_type": "code",
        "colab": {}
      },
      "cell_type": "code",
      "source": [
        "# Load Data\n",
        "import pandas as pd\n",
        "\n",
        "x_train = pd.read_csv('X_train.csv')\n",
        "y_train = pd.read_csv('y_train.csv')\n",
        "x_test = pd.read_csv('X_test.csv')\n",
        "sample_submission = pd.read_csv('sample_submission.csv')"
      ],
      "execution_count": 0,
      "outputs": []
    },
    {
      "metadata": {
        "id": "lSo16o4WGwck",
        "colab_type": "code",
        "outputId": "f2b8afae-9efb-42f8-b465-54727a413655",
        "colab": {
          "base_uri": "https://localhost:8080/",
          "height": 222
        }
      },
      "cell_type": "code",
      "source": [
        "# Inspect Data\n",
        "x_train.head()"
      ],
      "execution_count": 0,
      "outputs": [
        {
          "output_type": "execute_result",
          "data": {
            "text/html": [
              "<div>\n",
              "<style scoped>\n",
              "    .dataframe tbody tr th:only-of-type {\n",
              "        vertical-align: middle;\n",
              "    }\n",
              "\n",
              "    .dataframe tbody tr th {\n",
              "        vertical-align: top;\n",
              "    }\n",
              "\n",
              "    .dataframe thead th {\n",
              "        text-align: right;\n",
              "    }\n",
              "</style>\n",
              "<table border=\"1\" class=\"dataframe\">\n",
              "  <thead>\n",
              "    <tr style=\"text-align: right;\">\n",
              "      <th></th>\n",
              "      <th>row_id</th>\n",
              "      <th>series_id</th>\n",
              "      <th>measurement_number</th>\n",
              "      <th>orientation_X</th>\n",
              "      <th>orientation_Y</th>\n",
              "      <th>orientation_Z</th>\n",
              "      <th>orientation_W</th>\n",
              "      <th>angular_velocity_X</th>\n",
              "      <th>angular_velocity_Y</th>\n",
              "      <th>angular_velocity_Z</th>\n",
              "      <th>linear_acceleration_X</th>\n",
              "      <th>linear_acceleration_Y</th>\n",
              "      <th>linear_acceleration_Z</th>\n",
              "    </tr>\n",
              "  </thead>\n",
              "  <tbody>\n",
              "    <tr>\n",
              "      <th>0</th>\n",
              "      <td>0_0</td>\n",
              "      <td>0</td>\n",
              "      <td>0</td>\n",
              "      <td>-0.75853</td>\n",
              "      <td>-0.63435</td>\n",
              "      <td>-0.10488</td>\n",
              "      <td>-0.10597</td>\n",
              "      <td>0.107650</td>\n",
              "      <td>0.017561</td>\n",
              "      <td>0.000767</td>\n",
              "      <td>-0.74857</td>\n",
              "      <td>2.1030</td>\n",
              "      <td>-9.7532</td>\n",
              "    </tr>\n",
              "    <tr>\n",
              "      <th>1</th>\n",
              "      <td>0_1</td>\n",
              "      <td>0</td>\n",
              "      <td>1</td>\n",
              "      <td>-0.75853</td>\n",
              "      <td>-0.63434</td>\n",
              "      <td>-0.10490</td>\n",
              "      <td>-0.10600</td>\n",
              "      <td>0.067851</td>\n",
              "      <td>0.029939</td>\n",
              "      <td>0.003385</td>\n",
              "      <td>0.33995</td>\n",
              "      <td>1.5064</td>\n",
              "      <td>-9.4128</td>\n",
              "    </tr>\n",
              "    <tr>\n",
              "      <th>2</th>\n",
              "      <td>0_2</td>\n",
              "      <td>0</td>\n",
              "      <td>2</td>\n",
              "      <td>-0.75853</td>\n",
              "      <td>-0.63435</td>\n",
              "      <td>-0.10492</td>\n",
              "      <td>-0.10597</td>\n",
              "      <td>0.007275</td>\n",
              "      <td>0.028934</td>\n",
              "      <td>-0.005978</td>\n",
              "      <td>-0.26429</td>\n",
              "      <td>1.5922</td>\n",
              "      <td>-8.7267</td>\n",
              "    </tr>\n",
              "    <tr>\n",
              "      <th>3</th>\n",
              "      <td>0_3</td>\n",
              "      <td>0</td>\n",
              "      <td>3</td>\n",
              "      <td>-0.75852</td>\n",
              "      <td>-0.63436</td>\n",
              "      <td>-0.10495</td>\n",
              "      <td>-0.10597</td>\n",
              "      <td>-0.013053</td>\n",
              "      <td>0.019448</td>\n",
              "      <td>-0.008974</td>\n",
              "      <td>0.42684</td>\n",
              "      <td>1.0993</td>\n",
              "      <td>-10.0960</td>\n",
              "    </tr>\n",
              "    <tr>\n",
              "      <th>4</th>\n",
              "      <td>0_4</td>\n",
              "      <td>0</td>\n",
              "      <td>4</td>\n",
              "      <td>-0.75852</td>\n",
              "      <td>-0.63435</td>\n",
              "      <td>-0.10495</td>\n",
              "      <td>-0.10596</td>\n",
              "      <td>0.005135</td>\n",
              "      <td>0.007652</td>\n",
              "      <td>0.005245</td>\n",
              "      <td>-0.50969</td>\n",
              "      <td>1.4689</td>\n",
              "      <td>-10.4410</td>\n",
              "    </tr>\n",
              "  </tbody>\n",
              "</table>\n",
              "</div>"
            ],
            "text/plain": [
              "  row_id  series_id  measurement_number  orientation_X  orientation_Y  \\\n",
              "0    0_0          0                   0       -0.75853       -0.63435   \n",
              "1    0_1          0                   1       -0.75853       -0.63434   \n",
              "2    0_2          0                   2       -0.75853       -0.63435   \n",
              "3    0_3          0                   3       -0.75852       -0.63436   \n",
              "4    0_4          0                   4       -0.75852       -0.63435   \n",
              "\n",
              "   orientation_Z  orientation_W  angular_velocity_X  angular_velocity_Y  \\\n",
              "0       -0.10488       -0.10597            0.107650            0.017561   \n",
              "1       -0.10490       -0.10600            0.067851            0.029939   \n",
              "2       -0.10492       -0.10597            0.007275            0.028934   \n",
              "3       -0.10495       -0.10597           -0.013053            0.019448   \n",
              "4       -0.10495       -0.10596            0.005135            0.007652   \n",
              "\n",
              "   angular_velocity_Z  linear_acceleration_X  linear_acceleration_Y  \\\n",
              "0            0.000767               -0.74857                 2.1030   \n",
              "1            0.003385                0.33995                 1.5064   \n",
              "2           -0.005978               -0.26429                 1.5922   \n",
              "3           -0.008974                0.42684                 1.0993   \n",
              "4            0.005245               -0.50969                 1.4689   \n",
              "\n",
              "   linear_acceleration_Z  \n",
              "0                -9.7532  \n",
              "1                -9.4128  \n",
              "2                -8.7267  \n",
              "3               -10.0960  \n",
              "4               -10.4410  "
            ]
          },
          "metadata": {
            "tags": []
          },
          "execution_count": 14
        }
      ]
    },
    {
      "metadata": {
        "id": "HPxA_hyMHCbz",
        "colab_type": "code",
        "outputId": "e006ab7e-381b-4461-b921-a77bbc546612",
        "colab": {
          "base_uri": "https://localhost:8080/",
          "height": 202
        }
      },
      "cell_type": "code",
      "source": [
        "y_train.head()"
      ],
      "execution_count": 0,
      "outputs": [
        {
          "output_type": "execute_result",
          "data": {
            "text/html": [
              "<div>\n",
              "<style scoped>\n",
              "    .dataframe tbody tr th:only-of-type {\n",
              "        vertical-align: middle;\n",
              "    }\n",
              "\n",
              "    .dataframe tbody tr th {\n",
              "        vertical-align: top;\n",
              "    }\n",
              "\n",
              "    .dataframe thead th {\n",
              "        text-align: right;\n",
              "    }\n",
              "</style>\n",
              "<table border=\"1\" class=\"dataframe\">\n",
              "  <thead>\n",
              "    <tr style=\"text-align: right;\">\n",
              "      <th></th>\n",
              "      <th>series_id</th>\n",
              "      <th>group_id</th>\n",
              "      <th>surface</th>\n",
              "    </tr>\n",
              "  </thead>\n",
              "  <tbody>\n",
              "    <tr>\n",
              "      <th>0</th>\n",
              "      <td>0</td>\n",
              "      <td>13</td>\n",
              "      <td>fine_concrete</td>\n",
              "    </tr>\n",
              "    <tr>\n",
              "      <th>1</th>\n",
              "      <td>1</td>\n",
              "      <td>31</td>\n",
              "      <td>concrete</td>\n",
              "    </tr>\n",
              "    <tr>\n",
              "      <th>2</th>\n",
              "      <td>2</td>\n",
              "      <td>20</td>\n",
              "      <td>concrete</td>\n",
              "    </tr>\n",
              "    <tr>\n",
              "      <th>3</th>\n",
              "      <td>3</td>\n",
              "      <td>31</td>\n",
              "      <td>concrete</td>\n",
              "    </tr>\n",
              "    <tr>\n",
              "      <th>4</th>\n",
              "      <td>4</td>\n",
              "      <td>22</td>\n",
              "      <td>soft_tiles</td>\n",
              "    </tr>\n",
              "  </tbody>\n",
              "</table>\n",
              "</div>"
            ],
            "text/plain": [
              "   series_id  group_id        surface\n",
              "0          0        13  fine_concrete\n",
              "1          1        31       concrete\n",
              "2          2        20       concrete\n",
              "3          3        31       concrete\n",
              "4          4        22     soft_tiles"
            ]
          },
          "metadata": {
            "tags": []
          },
          "execution_count": 10
        }
      ]
    },
    {
      "metadata": {
        "id": "UFbxpTHnHD5a",
        "colab_type": "code",
        "outputId": "c3294597-e5f5-4c49-e3d7-44bb3b29ce65",
        "colab": {
          "base_uri": "https://localhost:8080/",
          "height": 222
        }
      },
      "cell_type": "code",
      "source": [
        "x_test.head()"
      ],
      "execution_count": 0,
      "outputs": [
        {
          "output_type": "execute_result",
          "data": {
            "text/html": [
              "<div>\n",
              "<style scoped>\n",
              "    .dataframe tbody tr th:only-of-type {\n",
              "        vertical-align: middle;\n",
              "    }\n",
              "\n",
              "    .dataframe tbody tr th {\n",
              "        vertical-align: top;\n",
              "    }\n",
              "\n",
              "    .dataframe thead th {\n",
              "        text-align: right;\n",
              "    }\n",
              "</style>\n",
              "<table border=\"1\" class=\"dataframe\">\n",
              "  <thead>\n",
              "    <tr style=\"text-align: right;\">\n",
              "      <th></th>\n",
              "      <th>row_id</th>\n",
              "      <th>series_id</th>\n",
              "      <th>measurement_number</th>\n",
              "      <th>orientation_X</th>\n",
              "      <th>orientation_Y</th>\n",
              "      <th>orientation_Z</th>\n",
              "      <th>orientation_W</th>\n",
              "      <th>angular_velocity_X</th>\n",
              "      <th>angular_velocity_Y</th>\n",
              "      <th>angular_velocity_Z</th>\n",
              "      <th>linear_acceleration_X</th>\n",
              "      <th>linear_acceleration_Y</th>\n",
              "      <th>linear_acceleration_Z</th>\n",
              "    </tr>\n",
              "  </thead>\n",
              "  <tbody>\n",
              "    <tr>\n",
              "      <th>0</th>\n",
              "      <td>0_0</td>\n",
              "      <td>0</td>\n",
              "      <td>0</td>\n",
              "      <td>-0.025773</td>\n",
              "      <td>-0.98864</td>\n",
              "      <td>-0.14801</td>\n",
              "      <td>0.003350</td>\n",
              "      <td>-0.006524</td>\n",
              "      <td>-0.001071</td>\n",
              "      <td>-0.027390</td>\n",
              "      <td>0.10043</td>\n",
              "      <td>4.2061</td>\n",
              "      <td>-5.5439</td>\n",
              "    </tr>\n",
              "    <tr>\n",
              "      <th>1</th>\n",
              "      <td>0_1</td>\n",
              "      <td>0</td>\n",
              "      <td>1</td>\n",
              "      <td>-0.025683</td>\n",
              "      <td>-0.98862</td>\n",
              "      <td>-0.14816</td>\n",
              "      <td>0.003439</td>\n",
              "      <td>-0.113960</td>\n",
              "      <td>0.083987</td>\n",
              "      <td>-0.060590</td>\n",
              "      <td>-0.70889</td>\n",
              "      <td>3.9905</td>\n",
              "      <td>-8.0273</td>\n",
              "    </tr>\n",
              "    <tr>\n",
              "      <th>2</th>\n",
              "      <td>0_2</td>\n",
              "      <td>0</td>\n",
              "      <td>2</td>\n",
              "      <td>-0.025617</td>\n",
              "      <td>-0.98861</td>\n",
              "      <td>-0.14826</td>\n",
              "      <td>0.003571</td>\n",
              "      <td>-0.080518</td>\n",
              "      <td>0.114860</td>\n",
              "      <td>-0.037177</td>\n",
              "      <td>1.45710</td>\n",
              "      <td>2.2828</td>\n",
              "      <td>-11.2990</td>\n",
              "    </tr>\n",
              "    <tr>\n",
              "      <th>3</th>\n",
              "      <td>0_3</td>\n",
              "      <td>0</td>\n",
              "      <td>3</td>\n",
              "      <td>-0.025566</td>\n",
              "      <td>-0.98862</td>\n",
              "      <td>-0.14817</td>\n",
              "      <td>0.003609</td>\n",
              "      <td>0.070067</td>\n",
              "      <td>0.033820</td>\n",
              "      <td>-0.035904</td>\n",
              "      <td>0.71096</td>\n",
              "      <td>1.8582</td>\n",
              "      <td>-12.2270</td>\n",
              "    </tr>\n",
              "    <tr>\n",
              "      <th>4</th>\n",
              "      <td>0_4</td>\n",
              "      <td>0</td>\n",
              "      <td>4</td>\n",
              "      <td>-0.025548</td>\n",
              "      <td>-0.98866</td>\n",
              "      <td>-0.14792</td>\n",
              "      <td>0.003477</td>\n",
              "      <td>0.152050</td>\n",
              "      <td>-0.029016</td>\n",
              "      <td>-0.015314</td>\n",
              "      <td>3.39960</td>\n",
              "      <td>2.7881</td>\n",
              "      <td>-10.4100</td>\n",
              "    </tr>\n",
              "  </tbody>\n",
              "</table>\n",
              "</div>"
            ],
            "text/plain": [
              "  row_id  series_id  measurement_number  orientation_X  orientation_Y  \\\n",
              "0    0_0          0                   0      -0.025773       -0.98864   \n",
              "1    0_1          0                   1      -0.025683       -0.98862   \n",
              "2    0_2          0                   2      -0.025617       -0.98861   \n",
              "3    0_3          0                   3      -0.025566       -0.98862   \n",
              "4    0_4          0                   4      -0.025548       -0.98866   \n",
              "\n",
              "   orientation_Z  orientation_W  angular_velocity_X  angular_velocity_Y  \\\n",
              "0       -0.14801       0.003350           -0.006524           -0.001071   \n",
              "1       -0.14816       0.003439           -0.113960            0.083987   \n",
              "2       -0.14826       0.003571           -0.080518            0.114860   \n",
              "3       -0.14817       0.003609            0.070067            0.033820   \n",
              "4       -0.14792       0.003477            0.152050           -0.029016   \n",
              "\n",
              "   angular_velocity_Z  linear_acceleration_X  linear_acceleration_Y  \\\n",
              "0           -0.027390                0.10043                 4.2061   \n",
              "1           -0.060590               -0.70889                 3.9905   \n",
              "2           -0.037177                1.45710                 2.2828   \n",
              "3           -0.035904                0.71096                 1.8582   \n",
              "4           -0.015314                3.39960                 2.7881   \n",
              "\n",
              "   linear_acceleration_Z  \n",
              "0                -5.5439  \n",
              "1                -8.0273  \n",
              "2               -11.2990  \n",
              "3               -12.2270  \n",
              "4               -10.4100  "
            ]
          },
          "metadata": {
            "tags": []
          },
          "execution_count": 11
        }
      ]
    },
    {
      "metadata": {
        "id": "fKzR72PwHFEy",
        "colab_type": "code",
        "outputId": "fff2e1ea-8cbe-43e5-994e-413fed65484a",
        "colab": {
          "base_uri": "https://localhost:8080/",
          "height": 202
        }
      },
      "cell_type": "code",
      "source": [
        "sample_submission.head()"
      ],
      "execution_count": 0,
      "outputs": [
        {
          "output_type": "execute_result",
          "data": {
            "text/html": [
              "<div>\n",
              "<style scoped>\n",
              "    .dataframe tbody tr th:only-of-type {\n",
              "        vertical-align: middle;\n",
              "    }\n",
              "\n",
              "    .dataframe tbody tr th {\n",
              "        vertical-align: top;\n",
              "    }\n",
              "\n",
              "    .dataframe thead th {\n",
              "        text-align: right;\n",
              "    }\n",
              "</style>\n",
              "<table border=\"1\" class=\"dataframe\">\n",
              "  <thead>\n",
              "    <tr style=\"text-align: right;\">\n",
              "      <th></th>\n",
              "      <th>series_id</th>\n",
              "      <th>surface</th>\n",
              "    </tr>\n",
              "  </thead>\n",
              "  <tbody>\n",
              "    <tr>\n",
              "      <th>0</th>\n",
              "      <td>0</td>\n",
              "      <td>concrete</td>\n",
              "    </tr>\n",
              "    <tr>\n",
              "      <th>1</th>\n",
              "      <td>1</td>\n",
              "      <td>concrete</td>\n",
              "    </tr>\n",
              "    <tr>\n",
              "      <th>2</th>\n",
              "      <td>2</td>\n",
              "      <td>concrete</td>\n",
              "    </tr>\n",
              "    <tr>\n",
              "      <th>3</th>\n",
              "      <td>3</td>\n",
              "      <td>concrete</td>\n",
              "    </tr>\n",
              "    <tr>\n",
              "      <th>4</th>\n",
              "      <td>4</td>\n",
              "      <td>concrete</td>\n",
              "    </tr>\n",
              "  </tbody>\n",
              "</table>\n",
              "</div>"
            ],
            "text/plain": [
              "   series_id   surface\n",
              "0          0  concrete\n",
              "1          1  concrete\n",
              "2          2  concrete\n",
              "3          3  concrete\n",
              "4          4  concrete"
            ]
          },
          "metadata": {
            "tags": []
          },
          "execution_count": 12
        }
      ]
    },
    {
      "metadata": {
        "id": "FaMjNWK7LKf7",
        "colab_type": "code",
        "colab": {}
      },
      "cell_type": "code",
      "source": [
        ""
      ],
      "execution_count": 0,
      "outputs": []
    }
  ]
}